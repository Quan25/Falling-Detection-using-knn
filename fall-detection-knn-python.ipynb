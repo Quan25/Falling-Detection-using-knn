{
 "cells": [
  {
   "cell_type": "code",
   "execution_count": 1,
   "metadata": {},
   "outputs": [],
   "source": [
    "import sklearn\n",
    "from sklearn.utils import shuffle\n",
    "from sklearn.neighbors import KNeighborsClassifier\n",
    "from sklearn import linear_model, preprocessing\n",
    "import pandas as pd\n",
    "import numpy as np"
   ]
  },
  {
   "cell_type": "code",
   "execution_count": 2,
   "metadata": {},
   "outputs": [],
   "source": [
    "data = pd.read_csv(\"fall_data.csv\")"
   ]
  },
  {
   "cell_type": "code",
   "execution_count": 3,
   "metadata": {},
   "outputs": [
    {
     "name": "stdout",
     "output_type": "stream",
     "text": [
      "   x1  y1  z1  x2  y2  z2 fallOrnot\n",
      "0   1   2   3   2   1   3         -\n",
      "1   2   1   3   3   1   2         -\n",
      "2   1   1   2   3   2   2         -\n",
      "3   2   2   3   3   2   1         -\n",
      "4   6   5   7   5   6   7         +\n",
      "5   5   6   6   6   5   7         +\n",
      "6   5   6   7   5   7   6         +\n",
      "7   7   6   7   6   5   6         +\n"
     ]
    }
   ],
   "source": [
    "print (data)"
   ]
  },
  {
   "cell_type": "code",
   "execution_count": 43,
   "metadata": {},
   "outputs": [],
   "source": [
    "x1 = list(data[\"x1\"])\n",
    "y1 = list(data[\"y1\"])\n",
    "z1 = list(data[\"z1\"])\n",
    "x2 = list(data[\"x2\"])\n",
    "y2 = list(data[\"y2\"])\n",
    "z2 = list(data[\"z2\"])\n",
    "fallOrnor = list(data[\"fallOrnot\"])"
   ]
  },
  {
   "cell_type": "code",
   "execution_count": 44,
   "metadata": {},
   "outputs": [],
   "source": [
    "predict = \"class\""
   ]
  },
  {
   "cell_type": "code",
   "execution_count": 45,
   "metadata": {},
   "outputs": [],
   "source": [
    "X = list(zip(x1, y1,z1, x2, y2, z2))\n",
    "Y = list(fallOrnor)"
   ]
  },
  {
   "cell_type": "code",
   "execution_count": 46,
   "metadata": {},
   "outputs": [],
   "source": [
    "x_train, x_test, y_train, y_test = sklearn.model_selection.train_test_split(X,Y, test_size=0.1)"
   ]
  },
  {
   "cell_type": "code",
   "execution_count": 47,
   "metadata": {},
   "outputs": [],
   "source": [
    "model = KNeighborsClassifier(n_neighbors=3)"
   ]
  },
  {
   "cell_type": "code",
   "execution_count": 48,
   "metadata": {},
   "outputs": [
    {
     "name": "stdout",
     "output_type": "stream",
     "text": [
      "1.0\n"
     ]
    }
   ],
   "source": [
    "model.fit(x_train, y_train)\n",
    "acc = model.score(x_test, y_test)\n",
    "print(acc)"
   ]
  },
  {
   "cell_type": "code",
   "execution_count": 49,
   "metadata": {},
   "outputs": [
    {
     "name": "stdout",
     "output_type": "stream",
     "text": [
      "Predicted:  - data:  (2, 1, 3, 3, 1, 2) Actual: -\n",
      "(array([[ 1.73205081,  1.73205081,  2.        ,  9.64365076, 10.09950494,\n",
      "        10.29563014, 10.34408043]]), array([[2, 6, 4, 1, 3, 0, 5]]))\n"
     ]
    }
   ],
   "source": [
    "#look closely about wheather each train and test is correct\n",
    "predicted = model.predict(x_test)\n",
    "naems = [\"unacc\", \"acc\", \"good\", \"very good\"]\n",
    "for x in range(len(predicted)):\n",
    "    print(\"Predicted: \", predicted[x], \"data: \", x_test[x], \"Actual:\", y_test[x] )\n",
    "    n=model.kneighbors([x_test[x]], 7, True)\n",
    "    print(n)"
   ]
  },
  {
   "cell_type": "code",
   "execution_count": 50,
   "metadata": {},
   "outputs": [
    {
     "name": "stdout",
     "output_type": "stream",
     "text": [
      "['+']\n"
     ]
    }
   ],
   "source": [
    "#predict from the give data and print out result\n",
    "print(model.predict([(7, 6, 5, 5, 6, 7)]))"
   ]
  },
  {
   "cell_type": "code",
   "execution_count": null,
   "metadata": {},
   "outputs": [],
   "source": []
  }
 ],
 "metadata": {
  "kernelspec": {
   "display_name": "Python 3",
   "language": "python",
   "name": "python3"
  },
  "language_info": {
   "codemirror_mode": {
    "name": "ipython",
    "version": 3
   },
   "file_extension": ".py",
   "mimetype": "text/x-python",
   "name": "python",
   "nbconvert_exporter": "python",
   "pygments_lexer": "ipython3",
   "version": "3.7.4"
  }
 },
 "nbformat": 4,
 "nbformat_minor": 2
}
